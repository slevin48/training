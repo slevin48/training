{
 "cells": [
  {
   "cell_type": "code",
   "execution_count": 1,
   "id": "7a3ba9c6-09ce-4ec9-9f7d-94d1681807e3",
   "metadata": {},
   "outputs": [],
   "source": [
    "import csv\n",
    "# create a dict with the desired and current names to update\n",
    "FORECAST_KEYS = {'current_time':'DateLocal', 'temp':'T', 'deg':'WindDir',\n",
    "                 'speed':'WindSpd', 'humidity':'RH', 'pressure':'P', 'City':'City'}\n",
    "\n",
    "def read_the_file(fname):\n",
    "    with open(fname, newline='') as csvfile:\n",
    "            reader = csv.DictReader(csvfile) \n",
    "            data = dict()\n",
    "            for key in FORECAST_KEYS.keys():\n",
    "                data[key] = []   \n",
    "            for row in [*reader]:\n",
    "                for key,value in FORECAST_KEYS.items():\n",
    "                    data[key].append(dict(row)[value])\n",
    "    return data"
   ]
  },
  {
   "cell_type": "code",
   "execution_count": 2,
   "id": "e2fa4dc9-eae5-4787-856c-3ba632f4fd4a",
   "metadata": {},
   "outputs": [
    {
     "data": {
      "text/plain": [
       "'C:\\\\Users\\\\ydebray'"
      ]
     },
     "execution_count": 2,
     "metadata": {},
     "output_type": "execute_result"
    }
   ],
   "source": [
    "import os\n",
    "os.getcwd()"
   ]
  },
  {
   "cell_type": "code",
   "execution_count": 3,
   "id": "a191a7d6-ef02-44f8-940a-7b95ec4a53c2",
   "metadata": {},
   "outputs": [],
   "source": [
    "os.chdir('Downloads')"
   ]
  },
  {
   "cell_type": "code",
   "execution_count": 4,
   "id": "0414a769-a1da-4597-94c6-07dc7fbace96",
   "metadata": {},
   "outputs": [],
   "source": [
    "os.chdir('python-exercises')"
   ]
  },
  {
   "cell_type": "code",
   "execution_count": 5,
   "id": "a0b3d55b-4dec-4c66-a77a-724f7fce9b15",
   "metadata": {},
   "outputs": [],
   "source": [
    "data = read_the_file('backupdata.csv')"
   ]
  },
  {
   "cell_type": "code",
   "execution_count": 10,
   "id": "2327268e-7147-4f57-b59a-b629c20978ec",
   "metadata": {},
   "outputs": [],
   "source": [
    "from urllib.request import urlopen\n",
    "import json\n",
    "url = \"https://samples.openweathermap.org\"       \n",
    "response = urlopen(url)\n",
    "html = response.read()\n",
    "json_data = json.loads(html)"
   ]
  },
  {
   "cell_type": "code",
   "execution_count": 21,
   "id": "b5fa0acb-5f1a-4f17-82ca-096ef9b5405f",
   "metadata": {},
   "outputs": [],
   "source": [
    "url = 'http://samples.openweathermap.org/data/2.5/forecast?id=524901&appid=b1b15e88fa797225412429c1c50c122a1'\n",
    "response = urlopen(url)\n",
    "html = response.read()\n",
    "json_data = json.loads(html)\n",
    "# json_data['list']"
   ]
  },
  {
   "cell_type": "code",
   "execution_count": 20,
   "id": "4822c525-cb5c-40f8-9822-031d5020af87",
   "metadata": {},
   "outputs": [],
   "source": [
    "f = open('data.txt','w')\n",
    "for i in json_data['list']:\n",
    "    f.write(str(i['main']['temp']))\n",
    "    f.write('\\n')\n",
    "f.close()"
   ]
  },
  {
   "cell_type": "code",
   "execution_count": 22,
   "id": "4b35d3a6-79ee-4950-984f-152bfe59622f",
   "metadata": {},
   "outputs": [],
   "source": [
    "from urllib.request import urlopen\n",
    "import json\n",
    "\n",
    "def get_weather():\n",
    "    url = \"https://samples.openweathermap.org/data/2.5/weather?q=London&appid=b6907d289e10d714a6e88b30761fae22\"\n",
    "    html = urlopen(url).read()\n",
    "    json_data = json.loads(html)\n",
    "    return json_data['main']['temp']\n"
   ]
  },
  {
   "cell_type": "code",
   "execution_count": 23,
   "id": "8ec0fbfe-9255-4bc9-8aa5-cafc3c1dcc97",
   "metadata": {},
   "outputs": [
    {
     "data": {
      "text/plain": [
       "280.32"
      ]
     },
     "execution_count": 23,
     "metadata": {},
     "output_type": "execute_result"
    }
   ],
   "source": [
    "get_weather()"
   ]
  },
  {
   "cell_type": "code",
   "execution_count": 26,
   "id": "8bc69a07-7858-4518-a45b-40f9cb35597e",
   "metadata": {},
   "outputs": [],
   "source": [
    "def get_forecast():\n",
    "    url=\"http://samples.openweathermap.org/data/2.5/forecast?q=Muenchen,DE&appid=b1b15e88fa797225412429c1c50c122a1\"\n",
    "    html = urlopen(url).read()\n",
    "    json_data = json.loads(html)\n",
    "    temp = [l['main']['temp'] for l in json_data['list']]\n",
    "    return temp"
   ]
  },
  {
   "cell_type": "code",
   "execution_count": 27,
   "id": "5a000fc5-9424-452f-9b6d-759e733f2aa6",
   "metadata": {},
   "outputs": [
    {
     "data": {
      "text/plain": [
       "[286.67,\n",
       " 285.66,\n",
       " 277.05,\n",
       " 272.78,\n",
       " 273.341,\n",
       " 275.568,\n",
       " 276.478,\n",
       " 276.67,\n",
       " 278.253,\n",
       " 276.455,\n",
       " 275.639,\n",
       " 275.459,\n",
       " 275.035,\n",
       " 274.965,\n",
       " 274.562,\n",
       " 275.648,\n",
       " 277.927,\n",
       " 278.367,\n",
       " 273.797,\n",
       " 271.239,\n",
       " 269.553,\n",
       " 268.198,\n",
       " 267.295,\n",
       " 272.956,\n",
       " 277.422,\n",
       " 277.984,\n",
       " 272.459,\n",
       " 269.473,\n",
       " 268.793,\n",
       " 268.106,\n",
       " 267.655,\n",
       " 273.75,\n",
       " 279.302,\n",
       " 279.343,\n",
       " 274.443,\n",
       " 272.424]"
      ]
     },
     "execution_count": 27,
     "metadata": {},
     "output_type": "execute_result"
    }
   ],
   "source": [
    "get_forecast()"
   ]
  }
 ],
 "metadata": {
  "kernelspec": {
   "display_name": "Python 3 (ipykernel)",
   "language": "python",
   "name": "python3"
  },
  "language_info": {
   "codemirror_mode": {
    "name": "ipython",
    "version": 3
   },
   "file_extension": ".py",
   "mimetype": "text/x-python",
   "name": "python",
   "nbconvert_exporter": "python",
   "pygments_lexer": "ipython3",
   "version": "3.10.4"
  }
 },
 "nbformat": 4,
 "nbformat_minor": 5
}
